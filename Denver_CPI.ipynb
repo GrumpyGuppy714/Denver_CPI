{
 "cells": [
  {
   "cell_type": "code",
   "execution_count": 2,
   "id": "7b80b3e1-f945-4c44-9fc0-33aa55af5889",
   "metadata": {},
   "outputs": [],
   "source": [
    "CPI = r'C:\\Users\\dcon7\\OneDrive\\Desktop\\Homework\\Assignment\\BuildProjects\\CPI_Denver\\Consumer_Price_Index_in_Denver.csv'"
   ]
  },
  {
   "cell_type": "code",
   "execution_count": 3,
   "id": "aa9c6b05-c357-472a-8eeb-5ee9cfc8b7f3",
   "metadata": {},
   "outputs": [],
   "source": [
    "import numpy as np\n",
    "import pandas as pd"
   ]
  },
  {
   "cell_type": "code",
   "execution_count": 463,
   "id": "7f84baad-e49d-41cd-b5a5-1260c2678bee",
   "metadata": {},
   "outputs": [],
   "source": [
    "df = pd.read_csv(CPI)"
   ]
  },
  {
   "cell_type": "code",
   "execution_count": 464,
   "id": "7ffb3253-a867-45c7-acc0-dafc6ebadf98",
   "metadata": {},
   "outputs": [
    {
     "data": {
      "text/plain": [
       "(4349, 17)"
      ]
     },
     "execution_count": 464,
     "metadata": {},
     "output_type": "execute_result"
    }
   ],
   "source": [
    "df.shape"
   ]
  },
  {
   "cell_type": "code",
   "execution_count": 465,
   "id": "69c1fad1-9d5f-48d5-85c7-592db5b88ff2",
   "metadata": {},
   "outputs": [
    {
     "name": "stdout",
     "output_type": "stream",
     "text": [
      "<class 'pandas.core.frame.DataFrame'>\n",
      "RangeIndex: 4349 entries, 0 to 4348\n",
      "Data columns (total 17 columns):\n",
      " #   Column                 Non-Null Count  Dtype  \n",
      "---  ------                 --------------  -----  \n",
      " 0   stateFips              4349 non-null   int64  \n",
      " 1   area                   4349 non-null   int64  \n",
      " 2   areaType               4349 non-null   int64  \n",
      " 3   period                 4349 non-null   int64  \n",
      " 4   periodYear             4349 non-null   int64  \n",
      " 5   periodType             4349 non-null   int64  \n",
      " 6   periodTypeDescription  4349 non-null   object \n",
      " 7   cpi                    4349 non-null   float64\n",
      " 8   title                  4349 non-null   object \n",
      " 9   type                   4349 non-null   int64  \n",
      " 10  source                 4349 non-null   int64  \n",
      " 11  cpiSourceDescription   4349 non-null   object \n",
      " 12  percentChangeYear      4349 non-null   float64\n",
      " 13  percentChangeMonth     4131 non-null   float64\n",
      " 14  dataRegion             4349 non-null   object \n",
      " 15  areaName               4349 non-null   object \n",
      " 16  areaDescription        4349 non-null   object \n",
      "dtypes: float64(3), int64(8), object(6)\n",
      "memory usage: 577.7+ KB\n"
     ]
    }
   ],
   "source": [
    "df.info()"
   ]
  },
  {
   "cell_type": "code",
   "execution_count": 466,
   "id": "42b376a3-52aa-41a7-9fc0-73eb10c17c10",
   "metadata": {},
   "outputs": [
    {
     "data": {
      "text/html": [
       "<div>\n",
       "<style scoped>\n",
       "    .dataframe tbody tr th:only-of-type {\n",
       "        vertical-align: middle;\n",
       "    }\n",
       "\n",
       "    .dataframe tbody tr th {\n",
       "        vertical-align: top;\n",
       "    }\n",
       "\n",
       "    .dataframe thead th {\n",
       "        text-align: right;\n",
       "    }\n",
       "</style>\n",
       "<table border=\"1\" class=\"dataframe\">\n",
       "  <thead>\n",
       "    <tr style=\"text-align: right;\">\n",
       "      <th></th>\n",
       "      <th>stateFips</th>\n",
       "      <th>area</th>\n",
       "      <th>areaType</th>\n",
       "      <th>period</th>\n",
       "      <th>periodYear</th>\n",
       "      <th>periodType</th>\n",
       "      <th>periodTypeDescription</th>\n",
       "      <th>cpi</th>\n",
       "      <th>title</th>\n",
       "      <th>type</th>\n",
       "      <th>source</th>\n",
       "      <th>cpiSourceDescription</th>\n",
       "      <th>percentChangeYear</th>\n",
       "      <th>percentChangeMonth</th>\n",
       "      <th>dataRegion</th>\n",
       "      <th>areaName</th>\n",
       "      <th>areaDescription</th>\n",
       "    </tr>\n",
       "  </thead>\n",
       "  <tbody>\n",
       "    <tr>\n",
       "      <th>0</th>\n",
       "      <td>0</td>\n",
       "      <td>0</td>\n",
       "      <td>0</td>\n",
       "      <td>0</td>\n",
       "      <td>1913</td>\n",
       "      <td>1</td>\n",
       "      <td>Annual</td>\n",
       "      <td>9.9</td>\n",
       "      <td>CPI-U all items 1982-84=100, not seasonally ad...</td>\n",
       "      <td>1</td>\n",
       "      <td>1</td>\n",
       "      <td>US DOL, Bureau of Labor Statistics</td>\n",
       "      <td>0.0</td>\n",
       "      <td>0.0</td>\n",
       "      <td>US</td>\n",
       "      <td>United States</td>\n",
       "      <td>The United States of America (commonly referre...</td>\n",
       "    </tr>\n",
       "    <tr>\n",
       "      <th>1</th>\n",
       "      <td>0</td>\n",
       "      <td>0</td>\n",
       "      <td>0</td>\n",
       "      <td>0</td>\n",
       "      <td>1913</td>\n",
       "      <td>1</td>\n",
       "      <td>Annual</td>\n",
       "      <td>10.0</td>\n",
       "      <td>CPI-W all items 1982-84=100, not seasonally ad...</td>\n",
       "      <td>3</td>\n",
       "      <td>1</td>\n",
       "      <td>US DOL, Bureau of Labor Statistics</td>\n",
       "      <td>0.0</td>\n",
       "      <td>0.0</td>\n",
       "      <td>US</td>\n",
       "      <td>United States</td>\n",
       "      <td>The United States of America (commonly referre...</td>\n",
       "    </tr>\n",
       "    <tr>\n",
       "      <th>2</th>\n",
       "      <td>0</td>\n",
       "      <td>0</td>\n",
       "      <td>0</td>\n",
       "      <td>1</td>\n",
       "      <td>1913</td>\n",
       "      <td>3</td>\n",
       "      <td>Monthly</td>\n",
       "      <td>9.8</td>\n",
       "      <td>CPI-U all items 1982-84=100, not seasonally ad...</td>\n",
       "      <td>1</td>\n",
       "      <td>1</td>\n",
       "      <td>US DOL, Bureau of Labor Statistics</td>\n",
       "      <td>0.0</td>\n",
       "      <td>-1.0</td>\n",
       "      <td>US</td>\n",
       "      <td>United States</td>\n",
       "      <td>The United States of America (commonly referre...</td>\n",
       "    </tr>\n",
       "    <tr>\n",
       "      <th>3</th>\n",
       "      <td>0</td>\n",
       "      <td>0</td>\n",
       "      <td>0</td>\n",
       "      <td>1</td>\n",
       "      <td>1913</td>\n",
       "      <td>3</td>\n",
       "      <td>Monthly</td>\n",
       "      <td>9.9</td>\n",
       "      <td>CPI-W all items 1982-84=100, not seasonally ad...</td>\n",
       "      <td>3</td>\n",
       "      <td>1</td>\n",
       "      <td>US DOL, Bureau of Labor Statistics</td>\n",
       "      <td>0.0</td>\n",
       "      <td>-1.0</td>\n",
       "      <td>US</td>\n",
       "      <td>United States</td>\n",
       "      <td>The United States of America (commonly referre...</td>\n",
       "    </tr>\n",
       "    <tr>\n",
       "      <th>4</th>\n",
       "      <td>0</td>\n",
       "      <td>0</td>\n",
       "      <td>0</td>\n",
       "      <td>2</td>\n",
       "      <td>1913</td>\n",
       "      <td>3</td>\n",
       "      <td>Monthly</td>\n",
       "      <td>9.8</td>\n",
       "      <td>CPI-U all items 1982-84=100, not seasonally ad...</td>\n",
       "      <td>1</td>\n",
       "      <td>1</td>\n",
       "      <td>US DOL, Bureau of Labor Statistics</td>\n",
       "      <td>0.0</td>\n",
       "      <td>0.0</td>\n",
       "      <td>US</td>\n",
       "      <td>United States</td>\n",
       "      <td>The United States of America (commonly referre...</td>\n",
       "    </tr>\n",
       "  </tbody>\n",
       "</table>\n",
       "</div>"
      ],
      "text/plain": [
       "   stateFips  area  areaType  period  periodYear  periodType  \\\n",
       "0          0     0         0       0        1913           1   \n",
       "1          0     0         0       0        1913           1   \n",
       "2          0     0         0       1        1913           3   \n",
       "3          0     0         0       1        1913           3   \n",
       "4          0     0         0       2        1913           3   \n",
       "\n",
       "  periodTypeDescription   cpi  \\\n",
       "0                Annual   9.9   \n",
       "1                Annual  10.0   \n",
       "2               Monthly   9.8   \n",
       "3               Monthly   9.9   \n",
       "4               Monthly   9.8   \n",
       "\n",
       "                                               title  type  source  \\\n",
       "0  CPI-U all items 1982-84=100, not seasonally ad...     1       1   \n",
       "1  CPI-W all items 1982-84=100, not seasonally ad...     3       1   \n",
       "2  CPI-U all items 1982-84=100, not seasonally ad...     1       1   \n",
       "3  CPI-W all items 1982-84=100, not seasonally ad...     3       1   \n",
       "4  CPI-U all items 1982-84=100, not seasonally ad...     1       1   \n",
       "\n",
       "                 cpiSourceDescription  percentChangeYear  percentChangeMonth  \\\n",
       "0  US DOL, Bureau of Labor Statistics                0.0                 0.0   \n",
       "1  US DOL, Bureau of Labor Statistics                0.0                 0.0   \n",
       "2  US DOL, Bureau of Labor Statistics                0.0                -1.0   \n",
       "3  US DOL, Bureau of Labor Statistics                0.0                -1.0   \n",
       "4  US DOL, Bureau of Labor Statistics                0.0                 0.0   \n",
       "\n",
       "  dataRegion       areaName                                    areaDescription  \n",
       "0         US  United States  The United States of America (commonly referre...  \n",
       "1         US  United States  The United States of America (commonly referre...  \n",
       "2         US  United States  The United States of America (commonly referre...  \n",
       "3         US  United States  The United States of America (commonly referre...  \n",
       "4         US  United States  The United States of America (commonly referre...  "
      ]
     },
     "execution_count": 466,
     "metadata": {},
     "output_type": "execute_result"
    }
   ],
   "source": [
    "df.head()"
   ]
  },
  {
   "cell_type": "code",
   "execution_count": 467,
   "id": "b33ec717-60da-4465-93c8-054d26980ebd",
   "metadata": {},
   "outputs": [
    {
     "data": {
      "text/plain": [
       "array(['United States', 'Denver/Boulder/Greeley'], dtype=object)"
      ]
     },
     "execution_count": 467,
     "metadata": {},
     "output_type": "execute_result"
    }
   ],
   "source": [
    "df['areaName'].unique()"
   ]
  },
  {
   "cell_type": "code",
   "execution_count": 468,
   "id": "d9994bb5-f033-4626-8310-1bd14171e6e6",
   "metadata": {},
   "outputs": [
    {
     "data": {
      "text/plain": [
       "US DOL, Bureau of Labor Statistics    4349\n",
       "Name: cpiSourceDescription, dtype: int64"
      ]
     },
     "execution_count": 468,
     "metadata": {},
     "output_type": "execute_result"
    }
   ],
   "source": [
    "df['cpiSourceDescription'].value_counts()"
   ]
  },
  {
   "cell_type": "code",
   "execution_count": 469,
   "id": "89ac7003-77ce-4f70-aacd-785e219c735d",
   "metadata": {},
   "outputs": [
    {
     "name": "stderr",
     "output_type": "stream",
     "text": [
      "F:\\WritingSoftware\\Anaconda\\lib\\site-packages\\pandas\\core\\indexing.py:1637: SettingWithCopyWarning: \n",
      "A value is trying to be set on a copy of a slice from a DataFrame\n",
      "\n",
      "See the caveats in the documentation: https://pandas.pydata.org/pandas-docs/stable/user_guide/indexing.html#returning-a-view-versus-a-copy\n",
      "  self._setitem_single_block(indexer, value, name)\n"
     ]
    }
   ],
   "source": [
    "# Wrangle\n",
    "\n",
    "df = df.copy()\n",
    "\n",
    "# Rename Columns\n",
    "df.columns = ['State_Fips', 'Area', 'Area_Type', 'Period', 'Period_Year', 'Period_Type', \n",
    "              'Period_Type_Description', 'CPI', 'Title', 'Type', 'Source', 'CPI_Source_Description',\n",
    "             'Percent_Change_Year', 'Percent_Change_Month', 'Data_Region', 'Area_Name', 'Area_Description']\n",
    "\n",
    "# Drop Columns with only 1 value\n",
    "df = df.drop(columns = ['CPI_Source_Description', 'Source'])\n",
    "\n",
    "# Sort the Dataframe by Period Year ascending\n",
    "df = df.set_index('Period_Year').sort_index()\n",
    "\n",
    "# Create a New Column with Bool Values.\n",
    "df['Is_Colorado'] = df['Area_Name']\n",
    "df['Is_Colorado'].iloc[df['Is_Colorado'] != 'Denver/Boulder/Greeley'] = 0\n",
    "df['Is_Colorado'].iloc[df['Is_Colorado'] == 'Denver/Boulder/Greeley'] = 1\n",
    "    \n",
    "# Remove Leaky Columns\n",
    "df = df.drop(columns = ['Area_Description', 'Area_Name', 'Data_Region','Area', 'Area_Type', 'State_Fips', 'Title'])"
   ]
  },
  {
   "cell_type": "code",
   "execution_count": 470,
   "id": "edb9f44f-9a5d-447e-8e6d-4d01ab379e1f",
   "metadata": {},
   "outputs": [
    {
     "data": {
      "text/html": [
       "<div>\n",
       "<style scoped>\n",
       "    .dataframe tbody tr th:only-of-type {\n",
       "        vertical-align: middle;\n",
       "    }\n",
       "\n",
       "    .dataframe tbody tr th {\n",
       "        vertical-align: top;\n",
       "    }\n",
       "\n",
       "    .dataframe thead th {\n",
       "        text-align: right;\n",
       "    }\n",
       "</style>\n",
       "<table border=\"1\" class=\"dataframe\">\n",
       "  <thead>\n",
       "    <tr style=\"text-align: right;\">\n",
       "      <th></th>\n",
       "      <th>Period</th>\n",
       "      <th>Period_Type</th>\n",
       "      <th>Period_Type_Description</th>\n",
       "      <th>CPI</th>\n",
       "      <th>Type</th>\n",
       "      <th>Percent_Change_Year</th>\n",
       "      <th>Percent_Change_Month</th>\n",
       "      <th>Is_Colorado</th>\n",
       "    </tr>\n",
       "    <tr>\n",
       "      <th>Period_Year</th>\n",
       "      <th></th>\n",
       "      <th></th>\n",
       "      <th></th>\n",
       "      <th></th>\n",
       "      <th></th>\n",
       "      <th></th>\n",
       "      <th></th>\n",
       "      <th></th>\n",
       "    </tr>\n",
       "  </thead>\n",
       "  <tbody>\n",
       "    <tr>\n",
       "      <th>1913</th>\n",
       "      <td>0</td>\n",
       "      <td>1</td>\n",
       "      <td>Annual</td>\n",
       "      <td>9.9</td>\n",
       "      <td>1</td>\n",
       "      <td>0.0</td>\n",
       "      <td>0.0</td>\n",
       "      <td>0</td>\n",
       "    </tr>\n",
       "    <tr>\n",
       "      <th>1913</th>\n",
       "      <td>12</td>\n",
       "      <td>3</td>\n",
       "      <td>Monthly</td>\n",
       "      <td>10.1</td>\n",
       "      <td>3</td>\n",
       "      <td>0.0</td>\n",
       "      <td>0.0</td>\n",
       "      <td>0</td>\n",
       "    </tr>\n",
       "    <tr>\n",
       "      <th>1913</th>\n",
       "      <td>12</td>\n",
       "      <td>3</td>\n",
       "      <td>Monthly</td>\n",
       "      <td>10.0</td>\n",
       "      <td>1</td>\n",
       "      <td>0.0</td>\n",
       "      <td>-1.0</td>\n",
       "      <td>0</td>\n",
       "    </tr>\n",
       "    <tr>\n",
       "      <th>1913</th>\n",
       "      <td>11</td>\n",
       "      <td>3</td>\n",
       "      <td>Monthly</td>\n",
       "      <td>10.1</td>\n",
       "      <td>3</td>\n",
       "      <td>0.0</td>\n",
       "      <td>0.0</td>\n",
       "      <td>0</td>\n",
       "    </tr>\n",
       "    <tr>\n",
       "      <th>1913</th>\n",
       "      <td>11</td>\n",
       "      <td>3</td>\n",
       "      <td>Monthly</td>\n",
       "      <td>10.1</td>\n",
       "      <td>1</td>\n",
       "      <td>0.0</td>\n",
       "      <td>1.0</td>\n",
       "      <td>0</td>\n",
       "    </tr>\n",
       "  </tbody>\n",
       "</table>\n",
       "</div>"
      ],
      "text/plain": [
       "             Period  Period_Type Period_Type_Description   CPI  Type  \\\n",
       "Period_Year                                                            \n",
       "1913              0            1                  Annual   9.9     1   \n",
       "1913             12            3                 Monthly  10.1     3   \n",
       "1913             12            3                 Monthly  10.0     1   \n",
       "1913             11            3                 Monthly  10.1     3   \n",
       "1913             11            3                 Monthly  10.1     1   \n",
       "\n",
       "             Percent_Change_Year  Percent_Change_Month Is_Colorado  \n",
       "Period_Year                                                         \n",
       "1913                         0.0                   0.0           0  \n",
       "1913                         0.0                   0.0           0  \n",
       "1913                         0.0                  -1.0           0  \n",
       "1913                         0.0                   0.0           0  \n",
       "1913                         0.0                   1.0           0  "
      ]
     },
     "execution_count": 470,
     "metadata": {},
     "output_type": "execute_result"
    }
   ],
   "source": [
    "df.head()"
   ]
  },
  {
   "cell_type": "code",
   "execution_count": 471,
   "id": "719b027a-132a-4d6f-b8d8-9ebb46a97a05",
   "metadata": {},
   "outputs": [
    {
     "name": "stdout",
     "output_type": "stream",
     "text": [
      "Baseline Score: 0.05840423085766843\n"
     ]
    }
   ],
   "source": [
    "baseline = df['Is_Colorado'].value_counts(normalize = True)[1]\n",
    "\n",
    "print('Baseline Score:', baseline)"
   ]
  },
  {
   "cell_type": "code",
   "execution_count": 472,
   "id": "c9405064-7043-4e68-8819-8052b426e892",
   "metadata": {},
   "outputs": [],
   "source": [
    "target = 'Is_Colorado'\n",
    "\n",
    "X = df.drop(columns = target)\n",
    "y = df[target]"
   ]
  },
  {
   "cell_type": "code",
   "execution_count": 473,
   "id": "cff713af-2fdb-40e7-8085-bfe8c712991f",
   "metadata": {},
   "outputs": [
    {
     "data": {
      "text/html": [
       "<div>\n",
       "<style scoped>\n",
       "    .dataframe tbody tr th:only-of-type {\n",
       "        vertical-align: middle;\n",
       "    }\n",
       "\n",
       "    .dataframe tbody tr th {\n",
       "        vertical-align: top;\n",
       "    }\n",
       "\n",
       "    .dataframe thead th {\n",
       "        text-align: right;\n",
       "    }\n",
       "</style>\n",
       "<table border=\"1\" class=\"dataframe\">\n",
       "  <thead>\n",
       "    <tr style=\"text-align: right;\">\n",
       "      <th></th>\n",
       "      <th>Period</th>\n",
       "      <th>Period_Type</th>\n",
       "      <th>Period_Type_Description</th>\n",
       "      <th>CPI</th>\n",
       "      <th>Type</th>\n",
       "      <th>Percent_Change_Year</th>\n",
       "      <th>Percent_Change_Month</th>\n",
       "    </tr>\n",
       "    <tr>\n",
       "      <th>Period_Year</th>\n",
       "      <th></th>\n",
       "      <th></th>\n",
       "      <th></th>\n",
       "      <th></th>\n",
       "      <th></th>\n",
       "      <th></th>\n",
       "      <th></th>\n",
       "    </tr>\n",
       "  </thead>\n",
       "  <tbody>\n",
       "    <tr>\n",
       "      <th>1913</th>\n",
       "      <td>0</td>\n",
       "      <td>1</td>\n",
       "      <td>Annual</td>\n",
       "      <td>9.9</td>\n",
       "      <td>1</td>\n",
       "      <td>0.0</td>\n",
       "      <td>0.0</td>\n",
       "    </tr>\n",
       "    <tr>\n",
       "      <th>1913</th>\n",
       "      <td>12</td>\n",
       "      <td>3</td>\n",
       "      <td>Monthly</td>\n",
       "      <td>10.1</td>\n",
       "      <td>3</td>\n",
       "      <td>0.0</td>\n",
       "      <td>0.0</td>\n",
       "    </tr>\n",
       "    <tr>\n",
       "      <th>1913</th>\n",
       "      <td>12</td>\n",
       "      <td>3</td>\n",
       "      <td>Monthly</td>\n",
       "      <td>10.0</td>\n",
       "      <td>1</td>\n",
       "      <td>0.0</td>\n",
       "      <td>-1.0</td>\n",
       "    </tr>\n",
       "    <tr>\n",
       "      <th>1913</th>\n",
       "      <td>11</td>\n",
       "      <td>3</td>\n",
       "      <td>Monthly</td>\n",
       "      <td>10.1</td>\n",
       "      <td>3</td>\n",
       "      <td>0.0</td>\n",
       "      <td>0.0</td>\n",
       "    </tr>\n",
       "    <tr>\n",
       "      <th>1913</th>\n",
       "      <td>11</td>\n",
       "      <td>3</td>\n",
       "      <td>Monthly</td>\n",
       "      <td>10.1</td>\n",
       "      <td>1</td>\n",
       "      <td>0.0</td>\n",
       "      <td>1.0</td>\n",
       "    </tr>\n",
       "  </tbody>\n",
       "</table>\n",
       "</div>"
      ],
      "text/plain": [
       "             Period  Period_Type Period_Type_Description   CPI  Type  \\\n",
       "Period_Year                                                            \n",
       "1913              0            1                  Annual   9.9     1   \n",
       "1913             12            3                 Monthly  10.1     3   \n",
       "1913             12            3                 Monthly  10.0     1   \n",
       "1913             11            3                 Monthly  10.1     3   \n",
       "1913             11            3                 Monthly  10.1     1   \n",
       "\n",
       "             Percent_Change_Year  Percent_Change_Month  \n",
       "Period_Year                                             \n",
       "1913                         0.0                   0.0  \n",
       "1913                         0.0                   0.0  \n",
       "1913                         0.0                  -1.0  \n",
       "1913                         0.0                   0.0  \n",
       "1913                         0.0                   1.0  "
      ]
     },
     "execution_count": 473,
     "metadata": {},
     "output_type": "execute_result"
    }
   ],
   "source": [
    "X.head()"
   ]
  },
  {
   "cell_type": "code",
   "execution_count": 474,
   "id": "737ad3d3-d34b-40eb-b4ad-b57caafc1700",
   "metadata": {},
   "outputs": [
    {
     "data": {
      "text/plain": [
       "Period_Year\n",
       "1913    0\n",
       "1913    0\n",
       "1913    0\n",
       "1913    0\n",
       "1913    0\n",
       "Name: Is_Colorado, dtype: object"
      ]
     },
     "execution_count": 474,
     "metadata": {},
     "output_type": "execute_result"
    }
   ],
   "source": [
    "y.head()"
   ]
  },
  {
   "cell_type": "code",
   "execution_count": 475,
   "id": "90ee6ba6-4131-4df2-9a74-b5724dc145d0",
   "metadata": {},
   "outputs": [
    {
     "name": "stdout",
     "output_type": "stream",
     "text": [
      "Train Size (3349, 8)\n",
      "Test Size (1000, 8)\n"
     ]
    }
   ],
   "source": [
    "train = df[:-1000]\n",
    "test = df[-1000:]\n",
    "\n",
    "print('Train Size', train.shape)\n",
    "print('Test Size', test.shape)"
   ]
  },
  {
   "cell_type": "code",
   "execution_count": 476,
   "id": "ddb58e0d-4b93-4392-b574-90a9bda115b7",
   "metadata": {},
   "outputs": [
    {
     "data": {
      "text/html": [
       "<div>\n",
       "<style scoped>\n",
       "    .dataframe tbody tr th:only-of-type {\n",
       "        vertical-align: middle;\n",
       "    }\n",
       "\n",
       "    .dataframe tbody tr th {\n",
       "        vertical-align: top;\n",
       "    }\n",
       "\n",
       "    .dataframe thead th {\n",
       "        text-align: right;\n",
       "    }\n",
       "</style>\n",
       "<table border=\"1\" class=\"dataframe\">\n",
       "  <thead>\n",
       "    <tr style=\"text-align: right;\">\n",
       "      <th></th>\n",
       "      <th>Period</th>\n",
       "      <th>Period_Type</th>\n",
       "      <th>Period_Type_Description</th>\n",
       "      <th>CPI</th>\n",
       "      <th>Type</th>\n",
       "      <th>Percent_Change_Year</th>\n",
       "      <th>Percent_Change_Month</th>\n",
       "      <th>Is_Colorado</th>\n",
       "    </tr>\n",
       "    <tr>\n",
       "      <th>Period_Year</th>\n",
       "      <th></th>\n",
       "      <th></th>\n",
       "      <th></th>\n",
       "      <th></th>\n",
       "      <th></th>\n",
       "      <th></th>\n",
       "      <th></th>\n",
       "      <th></th>\n",
       "    </tr>\n",
       "  </thead>\n",
       "  <tbody>\n",
       "    <tr>\n",
       "      <th>1913</th>\n",
       "      <td>0</td>\n",
       "      <td>1</td>\n",
       "      <td>Annual</td>\n",
       "      <td>9.9</td>\n",
       "      <td>1</td>\n",
       "      <td>0.0</td>\n",
       "      <td>0.0</td>\n",
       "      <td>0</td>\n",
       "    </tr>\n",
       "    <tr>\n",
       "      <th>1913</th>\n",
       "      <td>12</td>\n",
       "      <td>3</td>\n",
       "      <td>Monthly</td>\n",
       "      <td>10.1</td>\n",
       "      <td>3</td>\n",
       "      <td>0.0</td>\n",
       "      <td>0.0</td>\n",
       "      <td>0</td>\n",
       "    </tr>\n",
       "    <tr>\n",
       "      <th>1913</th>\n",
       "      <td>12</td>\n",
       "      <td>3</td>\n",
       "      <td>Monthly</td>\n",
       "      <td>10.0</td>\n",
       "      <td>1</td>\n",
       "      <td>0.0</td>\n",
       "      <td>-1.0</td>\n",
       "      <td>0</td>\n",
       "    </tr>\n",
       "    <tr>\n",
       "      <th>1913</th>\n",
       "      <td>11</td>\n",
       "      <td>3</td>\n",
       "      <td>Monthly</td>\n",
       "      <td>10.1</td>\n",
       "      <td>3</td>\n",
       "      <td>0.0</td>\n",
       "      <td>0.0</td>\n",
       "      <td>0</td>\n",
       "    </tr>\n",
       "    <tr>\n",
       "      <th>1913</th>\n",
       "      <td>11</td>\n",
       "      <td>3</td>\n",
       "      <td>Monthly</td>\n",
       "      <td>10.1</td>\n",
       "      <td>1</td>\n",
       "      <td>0.0</td>\n",
       "      <td>1.0</td>\n",
       "      <td>0</td>\n",
       "    </tr>\n",
       "  </tbody>\n",
       "</table>\n",
       "</div>"
      ],
      "text/plain": [
       "             Period  Period_Type Period_Type_Description   CPI  Type  \\\n",
       "Period_Year                                                            \n",
       "1913              0            1                  Annual   9.9     1   \n",
       "1913             12            3                 Monthly  10.1     3   \n",
       "1913             12            3                 Monthly  10.0     1   \n",
       "1913             11            3                 Monthly  10.1     3   \n",
       "1913             11            3                 Monthly  10.1     1   \n",
       "\n",
       "             Percent_Change_Year  Percent_Change_Month Is_Colorado  \n",
       "Period_Year                                                         \n",
       "1913                         0.0                   0.0           0  \n",
       "1913                         0.0                   0.0           0  \n",
       "1913                         0.0                  -1.0           0  \n",
       "1913                         0.0                   0.0           0  \n",
       "1913                         0.0                   1.0           0  "
      ]
     },
     "execution_count": 476,
     "metadata": {},
     "output_type": "execute_result"
    }
   ],
   "source": [
    "train.head()"
   ]
  },
  {
   "cell_type": "code",
   "execution_count": 493,
   "id": "177b453e-bfab-4df2-b180-a39b73974a8f",
   "metadata": {},
   "outputs": [
    {
     "data": {
      "text/html": [
       "<div>\n",
       "<style scoped>\n",
       "    .dataframe tbody tr th:only-of-type {\n",
       "        vertical-align: middle;\n",
       "    }\n",
       "\n",
       "    .dataframe tbody tr th {\n",
       "        vertical-align: top;\n",
       "    }\n",
       "\n",
       "    .dataframe thead th {\n",
       "        text-align: right;\n",
       "    }\n",
       "</style>\n",
       "<table border=\"1\" class=\"dataframe\">\n",
       "  <thead>\n",
       "    <tr style=\"text-align: right;\">\n",
       "      <th></th>\n",
       "      <th>Period</th>\n",
       "      <th>Period_Type</th>\n",
       "      <th>Period_Type_Description</th>\n",
       "      <th>CPI</th>\n",
       "      <th>Type</th>\n",
       "      <th>Percent_Change_Year</th>\n",
       "      <th>Percent_Change_Month</th>\n",
       "      <th>Is_Colorado</th>\n",
       "    </tr>\n",
       "    <tr>\n",
       "      <th>Period_Year</th>\n",
       "      <th></th>\n",
       "      <th></th>\n",
       "      <th></th>\n",
       "      <th></th>\n",
       "      <th></th>\n",
       "      <th></th>\n",
       "      <th></th>\n",
       "      <th></th>\n",
       "    </tr>\n",
       "  </thead>\n",
       "  <tbody>\n",
       "    <tr>\n",
       "      <th>1996</th>\n",
       "      <td>7</td>\n",
       "      <td>3</td>\n",
       "      <td>Monthly</td>\n",
       "      <td>157.0</td>\n",
       "      <td>1</td>\n",
       "      <td>3.0</td>\n",
       "      <td>0.2</td>\n",
       "      <td>0</td>\n",
       "    </tr>\n",
       "    <tr>\n",
       "      <th>1996</th>\n",
       "      <td>9</td>\n",
       "      <td>3</td>\n",
       "      <td>Monthly</td>\n",
       "      <td>157.8</td>\n",
       "      <td>1</td>\n",
       "      <td>3.0</td>\n",
       "      <td>0.3</td>\n",
       "      <td>0</td>\n",
       "    </tr>\n",
       "    <tr>\n",
       "      <th>1996</th>\n",
       "      <td>6</td>\n",
       "      <td>3</td>\n",
       "      <td>Monthly</td>\n",
       "      <td>154.0</td>\n",
       "      <td>4</td>\n",
       "      <td>2.8</td>\n",
       "      <td>0.1</td>\n",
       "      <td>0</td>\n",
       "    </tr>\n",
       "    <tr>\n",
       "      <th>1996</th>\n",
       "      <td>6</td>\n",
       "      <td>3</td>\n",
       "      <td>Monthly</td>\n",
       "      <td>156.7</td>\n",
       "      <td>2</td>\n",
       "      <td>2.8</td>\n",
       "      <td>0.2</td>\n",
       "      <td>0</td>\n",
       "    </tr>\n",
       "    <tr>\n",
       "      <th>1996</th>\n",
       "      <td>6</td>\n",
       "      <td>3</td>\n",
       "      <td>Monthly</td>\n",
       "      <td>156.7</td>\n",
       "      <td>1</td>\n",
       "      <td>2.8</td>\n",
       "      <td>0.1</td>\n",
       "      <td>0</td>\n",
       "    </tr>\n",
       "  </tbody>\n",
       "</table>\n",
       "</div>"
      ],
      "text/plain": [
       "             Period  Period_Type Period_Type_Description    CPI  Type  \\\n",
       "Period_Year                                                             \n",
       "1996              7            3                 Monthly  157.0     1   \n",
       "1996              9            3                 Monthly  157.8     1   \n",
       "1996              6            3                 Monthly  154.0     4   \n",
       "1996              6            3                 Monthly  156.7     2   \n",
       "1996              6            3                 Monthly  156.7     1   \n",
       "\n",
       "             Percent_Change_Year  Percent_Change_Month Is_Colorado  \n",
       "Period_Year                                                         \n",
       "1996                         3.0                   0.2           0  \n",
       "1996                         3.0                   0.3           0  \n",
       "1996                         2.8                   0.1           0  \n",
       "1996                         2.8                   0.2           0  \n",
       "1996                         2.8                   0.1           0  "
      ]
     },
     "execution_count": 493,
     "metadata": {},
     "output_type": "execute_result"
    }
   ],
   "source": [
    "test.head()"
   ]
  },
  {
   "cell_type": "code",
   "execution_count": 494,
   "id": "0f2bbe6f-b037-4a5b-ae17-abd55ac0a50f",
   "metadata": {},
   "outputs": [],
   "source": [
    "X_train = X[:-1000]\n",
    "\n",
    "y_train = y[:-1000]\n",
    "\n",
    "X_test = X[-1000:]\n",
    "\n",
    "y_test = y[-1000:]\n"
   ]
  },
  {
   "cell_type": "code",
   "execution_count": 495,
   "id": "69f25018-9566-4a69-b50d-4bd6f97eb1e1",
   "metadata": {},
   "outputs": [
    {
     "data": {
      "text/html": [
       "<div>\n",
       "<style scoped>\n",
       "    .dataframe tbody tr th:only-of-type {\n",
       "        vertical-align: middle;\n",
       "    }\n",
       "\n",
       "    .dataframe tbody tr th {\n",
       "        vertical-align: top;\n",
       "    }\n",
       "\n",
       "    .dataframe thead th {\n",
       "        text-align: right;\n",
       "    }\n",
       "</style>\n",
       "<table border=\"1\" class=\"dataframe\">\n",
       "  <thead>\n",
       "    <tr style=\"text-align: right;\">\n",
       "      <th></th>\n",
       "      <th>Period</th>\n",
       "      <th>Period_Type</th>\n",
       "      <th>Period_Type_Description</th>\n",
       "      <th>CPI</th>\n",
       "      <th>Type</th>\n",
       "      <th>Percent_Change_Year</th>\n",
       "      <th>Percent_Change_Month</th>\n",
       "    </tr>\n",
       "    <tr>\n",
       "      <th>Period_Year</th>\n",
       "      <th></th>\n",
       "      <th></th>\n",
       "      <th></th>\n",
       "      <th></th>\n",
       "      <th></th>\n",
       "      <th></th>\n",
       "      <th></th>\n",
       "    </tr>\n",
       "  </thead>\n",
       "  <tbody>\n",
       "    <tr>\n",
       "      <th>1913</th>\n",
       "      <td>0</td>\n",
       "      <td>1</td>\n",
       "      <td>Annual</td>\n",
       "      <td>9.9</td>\n",
       "      <td>1</td>\n",
       "      <td>0.0</td>\n",
       "      <td>0.0</td>\n",
       "    </tr>\n",
       "    <tr>\n",
       "      <th>1913</th>\n",
       "      <td>12</td>\n",
       "      <td>3</td>\n",
       "      <td>Monthly</td>\n",
       "      <td>10.1</td>\n",
       "      <td>3</td>\n",
       "      <td>0.0</td>\n",
       "      <td>0.0</td>\n",
       "    </tr>\n",
       "    <tr>\n",
       "      <th>1913</th>\n",
       "      <td>12</td>\n",
       "      <td>3</td>\n",
       "      <td>Monthly</td>\n",
       "      <td>10.0</td>\n",
       "      <td>1</td>\n",
       "      <td>0.0</td>\n",
       "      <td>-1.0</td>\n",
       "    </tr>\n",
       "    <tr>\n",
       "      <th>1913</th>\n",
       "      <td>11</td>\n",
       "      <td>3</td>\n",
       "      <td>Monthly</td>\n",
       "      <td>10.1</td>\n",
       "      <td>3</td>\n",
       "      <td>0.0</td>\n",
       "      <td>0.0</td>\n",
       "    </tr>\n",
       "    <tr>\n",
       "      <th>1913</th>\n",
       "      <td>11</td>\n",
       "      <td>3</td>\n",
       "      <td>Monthly</td>\n",
       "      <td>10.1</td>\n",
       "      <td>1</td>\n",
       "      <td>0.0</td>\n",
       "      <td>1.0</td>\n",
       "    </tr>\n",
       "  </tbody>\n",
       "</table>\n",
       "</div>"
      ],
      "text/plain": [
       "             Period  Period_Type Period_Type_Description   CPI  Type  \\\n",
       "Period_Year                                                            \n",
       "1913              0            1                  Annual   9.9     1   \n",
       "1913             12            3                 Monthly  10.1     3   \n",
       "1913             12            3                 Monthly  10.0     1   \n",
       "1913             11            3                 Monthly  10.1     3   \n",
       "1913             11            3                 Monthly  10.1     1   \n",
       "\n",
       "             Percent_Change_Year  Percent_Change_Month  \n",
       "Period_Year                                             \n",
       "1913                         0.0                   0.0  \n",
       "1913                         0.0                   0.0  \n",
       "1913                         0.0                  -1.0  \n",
       "1913                         0.0                   0.0  \n",
       "1913                         0.0                   1.0  "
      ]
     },
     "execution_count": 495,
     "metadata": {},
     "output_type": "execute_result"
    }
   ],
   "source": [
    "X_train.head()"
   ]
  },
  {
   "cell_type": "code",
   "execution_count": 496,
   "id": "617e2647-fd6b-4084-82ad-f6a324ee96b2",
   "metadata": {},
   "outputs": [],
   "source": [
    "import category_encoders as ce\n",
    "from sklearn.pipeline import make_pipeline\n",
    "from sklearn.preprocessing import StandardScaler\n",
    "from sklearn.impute import SimpleImputer\n",
    "from sklearn.linear_model import LogisticRegressionCV\n",
    "from sklearn.ensemble import RandomForestClassifier"
   ]
  },
  {
   "cell_type": "code",
   "execution_count": 509,
   "id": "03ef1571-cc98-471a-a175-5bcabd4948c8",
   "metadata": {},
   "outputs": [],
   "source": [
    "y_train = y_train.astype('int')\n",
    "\n",
    "model = make_pipeline(\n",
    "    ce.OneHotEncoder(use_cat_names = True), \n",
    "    StandardScaler(),\n",
    "    SimpleImputer(strategy = 'mean'),\n",
    "    LogisticRegressionCV()\n",
    ")"
   ]
  },
  {
   "cell_type": "code",
   "execution_count": 510,
   "id": "c893a307-10a7-45da-8189-1c37ef7736a8",
   "metadata": {},
   "outputs": [
    {
     "name": "stderr",
     "output_type": "stream",
     "text": [
      "F:\\WritingSoftware\\Anaconda\\lib\\site-packages\\category_encoders\\utils.py:21: FutureWarning: is_categorical is deprecated and will be removed in a future version.  Use is_categorical_dtype instead\n",
      "  elif pd.api.types.is_categorical(cols):\n",
      "F:\\WritingSoftware\\Anaconda\\lib\\site-packages\\sklearn\\model_selection\\_split.py:666: UserWarning: The least populated class in y has only 3 members, which is less than n_splits=5.\n",
      "  warnings.warn((\"The least populated class in y has only %d\"\n"
     ]
    },
    {
     "data": {
      "text/plain": [
       "Pipeline(steps=[('onehotencoder',\n",
       "                 OneHotEncoder(cols=['Period_Type_Description'],\n",
       "                               use_cat_names=True)),\n",
       "                ('standardscaler', StandardScaler()),\n",
       "                ('simpleimputer', SimpleImputer()),\n",
       "                ('logisticregressioncv', LogisticRegressionCV())])"
      ]
     },
     "execution_count": 510,
     "metadata": {},
     "output_type": "execute_result"
    }
   ],
   "source": [
    "model.fit(X_train, y_train)"
   ]
  },
  {
   "cell_type": "code",
   "execution_count": 511,
   "id": "eab13ffb-07b1-4907-a6b4-461b2d2917e8",
   "metadata": {},
   "outputs": [
    {
     "name": "stdout",
     "output_type": "stream",
     "text": [
      "Logistic Regression Score: 0.862\n"
     ]
    }
   ],
   "source": [
    "print('Logistic Regression Score:', model.score(X_test, y_test))"
   ]
  },
  {
   "cell_type": "code",
   "execution_count": 504,
   "id": "a22c95a7-1d44-4fe8-b80b-7ee2fac018f2",
   "metadata": {},
   "outputs": [],
   "source": [
    "tree_model = make_pipeline(\n",
    "    ce.OneHotEncoder(use_cat_names = True),\n",
    "    SimpleImputer(strategy = 'mean'),\n",
    "    RandomForestClassifier(n_jobs = -1)\n",
    ")"
   ]
  },
  {
   "cell_type": "code",
   "execution_count": 505,
   "id": "4ee4e3a6-970d-4d73-b2f6-f7f6d45d83fe",
   "metadata": {
    "tags": []
   },
   "outputs": [
    {
     "name": "stderr",
     "output_type": "stream",
     "text": [
      "F:\\WritingSoftware\\Anaconda\\lib\\site-packages\\category_encoders\\utils.py:21: FutureWarning: is_categorical is deprecated and will be removed in a future version.  Use is_categorical_dtype instead\n",
      "  elif pd.api.types.is_categorical(cols):\n"
     ]
    },
    {
     "data": {
      "text/plain": [
       "Pipeline(steps=[('onehotencoder',\n",
       "                 OneHotEncoder(cols=['Period_Type_Description'],\n",
       "                               use_cat_names=True)),\n",
       "                ('simpleimputer', SimpleImputer()),\n",
       "                ('randomforestclassifier', RandomForestClassifier(n_jobs=-1))])"
      ]
     },
     "execution_count": 505,
     "metadata": {},
     "output_type": "execute_result"
    }
   ],
   "source": [
    "tree_model.fit(X_train, y_train)"
   ]
  },
  {
   "cell_type": "code",
   "execution_count": 506,
   "id": "07ee9224-8d73-4cde-bd04-fe43dfbf7132",
   "metadata": {},
   "outputs": [
    {
     "name": "stdout",
     "output_type": "stream",
     "text": [
      "Random Forest Score: 0.919\n"
     ]
    }
   ],
   "source": [
    "print('Random Forest Score:', tree_model.score(X_test, y_test))"
   ]
  },
  {
   "cell_type": "code",
   "execution_count": null,
   "id": "95525a53-1dc4-4888-ac60-85364f6174f5",
   "metadata": {},
   "outputs": [],
   "source": [
    "# The Following Two Models are Explained in The README"
   ]
  },
  {
   "cell_type": "code",
   "execution_count": 512,
   "id": "c86899b8-dacc-4b77-b89d-2659dffd8d4a",
   "metadata": {},
   "outputs": [
    {
     "name": "stderr",
     "output_type": "stream",
     "text": [
      "F:\\WritingSoftware\\Anaconda\\lib\\site-packages\\seaborn\\distributions.py:2557: FutureWarning: `distplot` is a deprecated function and will be removed in a future version. Please adapt your code to use either `displot` (a figure-level function with similar flexibility) or `histplot` (an axes-level function for histograms).\n",
      "  warnings.warn(msg, FutureWarning)\n"
     ]
    },
    {
     "data": {
      "text/plain": [
       "<AxesSubplot:xlabel='CPI', ylabel='Density'>"
      ]
     },
     "execution_count": 512,
     "metadata": {},
     "output_type": "execute_result"
    },
    {
     "data": {
      "image/png": "[encoded data removed]",
      "text/plain": [
       "<Figure size 432x288 with 1 Axes>"
      ]
     },
     "metadata": {
      "needs_background": "light"
     },
     "output_type": "display_data"
    }
   ],
   "source": [
    "import seaborn as sns\n",
    "import matplotlib.pyplot as plt\n",
    "\n",
    "sns.distplot(df['CPI'])"
   ]
  },
  {
   "cell_type": "code",
   "execution_count": 508,
   "id": "ed18a031-0455-406e-aa64-f69057160aef",
   "metadata": {},
   "outputs": [
    {
     "data": {
      "text/plain": [
       "<sklearn.metrics._plot.confusion_matrix.ConfusionMatrixDisplay at 0x1c1c79494c0>"
      ]
     },
     "execution_count": 508,
     "metadata": {},
     "output_type": "execute_result"
    },
    {
     "data": {
      "image/png": "[encoded data removed]",
      "text/plain": [
       "<Figure size 432x288 with 2 Axes>"
      ]
     },
     "metadata": {
      "needs_background": "light"
     },
     "output_type": "display_data"
    }
   ],
   "source": [
    "from sklearn.metrics import plot_confusion_matrix\n",
    "\n",
    "# Plot a Confusion Matrix for the Random Forest model\n",
    "plot_confusion_matrix(tree_model, X_val, y_val, values_format = '.0f', xticks_rotation = 'vertical')"
   ]
  },
  {
   "cell_type": "code",
   "execution_count": null,
   "id": "be4c6120-563d-49a0-a32c-a857d5f53614",
   "metadata": {},
   "outputs": [],
   "source": []
  }
 ],
 "metadata": {
  "kernelspec": {
   "display_name": "Python 3",
   "language": "python",
   "name": "python3"
  },
  "language_info": {
   "codemirror_mode": {
    "name": "ipython",
    "version": 3
   },
   "file_extension": ".py",
   "mimetype": "text/x-python",
   "name": "python",
   "nbconvert_exporter": "python",
   "pygments_lexer": "ipython3",
   "version": "3.8.8"
  }
 },
 "nbformat": 4,
 "nbformat_minor": 5
}
